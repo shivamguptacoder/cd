{
 "cells": [
  {
   "cell_type": "code",
   "execution_count": 2,
   "metadata": {},
   "outputs": [
    {
     "name": "stdout",
     "output_type": "stream",
     "text": [
      "Enter number of production rules : 3\n",
      "Enter the production rules below(Enter space( ) for epsilon)\n",
      "Enter production rule 1 : A->SB|B\n",
      "Enter production rule 2 : B->b|d\n",
      "Enter production rule 3 : S-> |a|Bc\n",
      "Enter start symbol : A\n",
      "{'A': ['SB', 'B'], 'B': ['b', 'd'], 'S': [' ', 'a', 'Bc']}\n",
      "FIRST[A] =  {' ', 'a', 'b', 'd'}\n",
      "FIRST[B] =  {'b', 'd'}\n",
      "FIRST[S] =  {'b', 'd', 'a', ' '}\n"
     ]
    }
   ],
   "source": [
    "import sys\n",
    "from sys import stdin\n",
    "import math\n",
    "\n",
    "\n",
    "def FIRSTALL(listnt):\n",
    "    set1=set()\n",
    "    for j in listnt:\n",
    "        set1=set1.union(FIRST(j))\n",
    "    return set1\n",
    "\n",
    "\n",
    "def FIRST(nt):\n",
    "    x=set()\n",
    "    if nt==\" \":\n",
    "        return {' '}\n",
    "    \n",
    "    for j in nt:\n",
    "        if(j.islower()):\n",
    "            x.add(j)\n",
    "            if(\" \" in x):\n",
    "                x.remove(\" \")\n",
    "            return x\n",
    "        else:\n",
    "            x=x.union(FIRSTALL(dict1[j]))\n",
    "            if(\" \" not in x):\n",
    "                return x\n",
    "    return x\n",
    "                \n",
    "n=int(input(\"Enter number of production rules : \"))\n",
    "\n",
    "dict1={}\n",
    "\n",
    "print(\"Enter the production rules below(Enter space( ) for epsilon)\")\n",
    "for i in range(n):\n",
    "    x=input(\"Enter production rule \"+str(i+1)+\" : \")\n",
    "    list1=x.split(\"->\")\n",
    "    ll=(list1[1].split(\"|\"))\n",
    "    if(list1[0] not in dict1):\n",
    "        dict1[list1[0]]=ll\n",
    "    else:\n",
    "        dict1[list1[0]]=dict1[list1[0]]+ll\n",
    "         \n",
    "startsymbol=input(\"Enter start symbol : \")\n",
    "\n",
    "            \n",
    "print(dict1)\n",
    "\n",
    "first={}\n",
    "\n",
    "\n",
    "for i in dict1:\n",
    "    set1=FIRSTALL(dict1[i])\n",
    "    first[i]=set1\n",
    "\n",
    "for i in first:\n",
    "    print(\"FIRST[\"+str(i)+\"] = \",first[i])"
   ]
  },
  {
   "cell_type": "code",
   "execution_count": null,
   "metadata": {},
   "outputs": [],
   "source": []
  }
 ],
 "metadata": {
  "kernelspec": {
   "display_name": "Python 3",
   "language": "python",
   "name": "python3"
  },
  "language_info": {
   "codemirror_mode": {
    "name": "ipython",
    "version": 3
   },
   "file_extension": ".py",
   "mimetype": "text/x-python",
   "name": "python",
   "nbconvert_exporter": "python",
   "pygments_lexer": "ipython3",
   "version": "3.6.5"
  }
 },
 "nbformat": 4,
 "nbformat_minor": 2
}
