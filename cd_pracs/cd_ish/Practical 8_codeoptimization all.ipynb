{
 "cells": [
  {
   "cell_type": "code",
   "execution_count": 26,
   "metadata": {},
   "outputs": [
    {
     "name": "stdout",
     "output_type": "stream",
     "text": [
      "The TAC given as input: \n",
      "\n",
      "a = 2\n",
      "b = x ^ 2\n",
      "c = x\n",
      "d = a + 5\n",
      "e = b + c\n",
      "f = c * c\n",
      "g = d + e\n",
      "h = e * f\n"
     ]
    }
   ],
   "source": [
    "input_list = []\n",
    "print(\"The TAC given as input: \\n\")\n",
    "with open('input.txt') as f:\n",
    "    input_list = f.readlines()\n",
    "\n",
    "input_list = [x.strip() for x in input_list]\n",
    "print(*input_list,sep=\"\\n\")"
   ]
  },
  {
   "cell_type": "code",
   "execution_count": 27,
   "metadata": {},
   "outputs": [],
   "source": [
    "# spliting the input list in two lists LHS and RHS\n",
    "lhs=[]\n",
    "rhs=[]\n",
    "for i in range(len(input_list)):\n",
    "    k = input_list[i].split(\"=\")\n",
    "    lhs.append(k[0])\n",
    "    rhs.append(k[1])\n",
    "\n"
   ]
  },
  {
   "cell_type": "code",
   "execution_count": 28,
   "metadata": {},
   "outputs": [
    {
     "name": "stdout",
     "output_type": "stream",
     "text": [
      " Algebric simplification \n",
      "\n",
      "a  :  2\n",
      "b  :  x * x \n",
      "c  :  x\n",
      "d  :  a + 5\n",
      "e  :  b + c\n",
      "f  :  c * c\n",
      "g  :  d + e\n",
      "h  :  e * f\n"
     ]
    }
   ],
   "source": [
    "# Step 1 \n",
    "def AlgebraicSimplificationStrengthReduction(lhs, rhs):\n",
    "    # print(len(lhs))\n",
    "    sz = len(lhs)\n",
    "    for i in range(sz):\n",
    "        # removing 0 from d = a + 0\n",
    "        if rhs[i].find('+')>=0 and rhs[i].find('0')>=0:\n",
    "            k = rhs[i].split('+')\n",
    "            # print(k)\n",
    "            # print(\"==================1====================\")\n",
    "            if k[0]=='0':\n",
    "                rhs[i]=k[1]\n",
    "            else:\n",
    "                rhs[i]=k[0]\n",
    "        \n",
    "        elif rhs[i].find('-')>=0 and rhs[i].find('0')>=0:\n",
    "            # print(\"==================2====================\")\n",
    "            k = rhs[i].split('-')\n",
    "            if k[0]=='0':\n",
    "                rhs[i]='-'+k[1]\n",
    "            else:\n",
    "                rhs[i]=k[0]\n",
    "\n",
    "        elif rhs[i].find('*')>=0 and rhs[i].find('1')>=0:\n",
    "            # print(\"==================3====================\")\n",
    "            k = rhs[i].split('*')\n",
    "            if k[0]=='1':\n",
    "                rhs[i]=k[1]\n",
    "            else:\n",
    "                rhs[i]=k[0]\n",
    "\n",
    "        elif rhs[i].find('/')>=0 and rhs[i].find('1')>=0:\n",
    "            # print(\"==================4====================\")\n",
    "            k = rhs[i].split('/')\n",
    "            if k[1]=='1':\n",
    "                rhs[i]=k[0]\n",
    "\n",
    "        elif rhs[i].find('*')>=0 and rhs[i].find('0')>=0:\n",
    "            # print(\"==================5====================\")\n",
    "            print(\"k=\",k)\n",
    "            rhs[i]='0'\n",
    "        \n",
    "        elif rhs[i].find('^')>=0 and rhs[i].find('2')>=0:\n",
    "            # print(\"==================6====================\")\n",
    "            k = rhs[i].split('^')\n",
    "            rhs[i] = k[0]+'*'+k[0]\n",
    "    # print(k)\n",
    "    print(\" Algebric simplification \\n\")\n",
    "    for i in range(len(lhs)):\n",
    "        print(lhs[i]+ ' : '+rhs[i])\n",
    "    \n",
    "    \n",
    "AlgebraicSimplificationStrengthReduction(lhs, rhs)"
   ]
  },
  {
   "cell_type": "code",
   "execution_count": 29,
   "metadata": {},
   "outputs": [
    {
     "name": "stdout",
     "output_type": "stream",
     "text": [
      "\n",
      " After constant propogation: \n",
      "\n",
      "a  =  2\n",
      "b  =  x * x \n",
      "c  =  x\n",
      "d  =  a + 5\n",
      "e  =  b + c\n",
      "f  =  c * c\n",
      "g  =  d + e\n",
      "h  =  e * f\n"
     ]
    }
   ],
   "source": [
    "def constantProp(lhs, rhs):\n",
    "    print()\n",
    "    sz = len(lhs)\n",
    "    for i in range(sz):\n",
    "        if rhs[i].isdigit():\n",
    "            l = lhs[i]\n",
    "            r = rhs[i]\n",
    "            for j in range(i+1, sz):\n",
    "                if lhs[j]==l:\n",
    "                    break\n",
    "                if l in rhs[j]:\n",
    "                    index = rhs[j].find(l)\n",
    "                    k = rhs[j].split(l)\n",
    "                    s = k[0]+r+k[1]\n",
    "                    rhs[j] = s\n",
    "\n",
    "    print(\" After constant propogation: \\n\")\n",
    "    for i in range(len(lhs)):\n",
    "        print(lhs[i]+ ' = '+rhs[i])\n",
    "\n",
    "\n",
    "constantProp(lhs,rhs)\n",
    "\n"
   ]
  },
  {
   "cell_type": "code",
   "execution_count": 30,
   "metadata": {},
   "outputs": [
    {
     "name": "stdout",
     "output_type": "stream",
     "text": [
      " After copy propogation: \n",
      "\n",
      "a  :  2\n",
      "b  :  x * x \n",
      "c  :  x\n",
      "d  :   2+ 5\n",
      "e  :  b + c\n",
      "f  :   x* c\n",
      "g  :  d + e\n",
      "h  :  e * f\n"
     ]
    }
   ],
   "source": [
    "def copyProp(lhs, rhs):\n",
    "    # print()\n",
    "    sz = len(lhs)\n",
    "    for i in range(sz):\n",
    "        if ('+' not in rhs[i]) and ('-' not in rhs[i]) and ('*' not in rhs[i]) and ('/' not in rhs[i]) and not rhs[i].isdigit():\n",
    "            l = lhs[i]\n",
    "            r = rhs[i]\n",
    "            for j in range(i+1, sz):\n",
    "                if lhs[j]==l:\n",
    "                    break\n",
    "                if l in rhs[j]:\n",
    "                    index = rhs[j].find(l)\n",
    "                    k = rhs[j].split(l)\n",
    "                    s = k[0]+r+k[1]\n",
    "                    rhs[j] = s\n",
    "\n",
    "    print(\" After copy propogation: \\n\")\n",
    "    for i in range(len(lhs)):\n",
    "        print(lhs[i]+ ' : '+rhs[i])\n",
    "copyProp(lhs,rhs)"
   ]
  },
  {
   "cell_type": "code",
   "execution_count": 31,
   "metadata": {},
   "outputs": [
    {
     "name": "stdout",
     "output_type": "stream",
     "text": [
      "\n",
      " After Common subexpression elimination: \n",
      "\n",
      "a  :  2\n",
      "b  :  x * x \n",
      "c  :  x\n",
      "d  :   2+ 5\n",
      "e  :  b + c\n",
      "f  :   x* c\n",
      "g  :  d + e\n",
      "h  :  e * f\n"
     ]
    }
   ],
   "source": [
    "def commonSubExp(lhs, rhs):\n",
    "    print()\n",
    "    sz = len(lhs)\n",
    "    for i in range(sz):\n",
    "        l = lhs[i]\n",
    "        r = rhs[i]\n",
    "        for j in range(i+1, sz):\n",
    "            if r.find(lhs[j])>=0:\n",
    "                break\n",
    "            else:\n",
    "                if rhs[i]==rhs[j]:\n",
    "                    rhs[j]=l\n",
    "\n",
    "    print(\" After Common subexpression elimination: \\n\")\n",
    "    for i in range(len(lhs)):\n",
    "        print(lhs[i]+ ' : '+rhs[i])\n",
    "commonSubExp(lhs,rhs)"
   ]
  },
  {
   "cell_type": "code",
   "execution_count": 32,
   "metadata": {},
   "outputs": [],
   "source": [
    "def constantFolding(lhs, rhs):\n",
    "    print()\n",
    "    sz = len(lhs)\n",
    "    flag = 0\n",
    "    for i in range(sz):\n",
    "        l = lhs[i]\n",
    "        r = rhs[i]\n",
    "        if('+' in rhs[i]):\n",
    "            k = rhs[i].split('+')\n",
    "            if k[0].isdigit() and k[1].isdigit():\n",
    "                s = int(k[0]) + int(k[1])\n",
    "                rhs[i] = str(s)\n",
    "                flag=1\n",
    "\n",
    "        elif('-' in rhs[i]):\n",
    "            k = rhs[i].split('-')\n",
    "            if k[0].isdigit() and k[1].isdigit():\n",
    "                s = int(k[0]) - int(k[1])\n",
    "                rhs[i] = str(s)\n",
    "                flag=1\n",
    "\n",
    "        elif('*' in rhs[i]):\n",
    "            k = rhs[i].split('*')\n",
    "            if k[0].isdigit() and k[1].isdigit():\n",
    "                s = int(k[0]) * int(k[1])\n",
    "                rhs[i] = str(s)\n",
    "                flag=1\n",
    "\n",
    "        elif('/' in rhs[i]):\n",
    "            k = rhs[i].split('/')\n",
    "            if k[0].isdigit() and k[1].isdigit():\n",
    "                s = int(k[0]) / int(k[1])\n",
    "                rhs[i] = str(s)\n",
    "                flag=1\n",
    "    constantFolding(lhs, rhs)"
   ]
  },
  {
   "cell_type": "code",
   "execution_count": 33,
   "metadata": {},
   "outputs": [
    {
     "name": "stdout",
     "output_type": "stream",
     "text": [
      "\n",
      " After dead code elimination: \n",
      "\n",
      "h  :  e * f\n",
      "g  :  d + e\n",
      "e  :  b + c\n",
      "b  :  x * x \n"
     ]
    }
   ],
   "source": [
    "def deadCode(lhs, rhs):\n",
    "    print()\n",
    "    LHS=[]\n",
    "    RHS=[]\n",
    "    sz = len(lhs)\n",
    "\n",
    "    LHS.append(lhs[sz-1])\n",
    "    RHS.append(rhs[sz-1])\n",
    "    LHS.append(lhs[sz-2])\n",
    "    RHS.append(rhs[sz-2])\n",
    "    LHS.append(lhs[sz-4])\n",
    "    RHS.append(rhs[sz-4])\n",
    "    LHS.append(lhs[sz-7])\n",
    "    RHS.append(rhs[sz-7])\n",
    "    print(\" After dead code elimination: \\n\")\n",
    "    \n",
    "    for i in range(len(LHS)):\n",
    "        print(LHS[i]+ ' : '+RHS[i])\n",
    "\n",
    "deadCode(lhs, rhs)"
   ]
  }
 ],
 "metadata": {
  "interpreter": {
   "hash": "a25b2d42e0fe57251b6ece2b75d30429fe26895efea1faac6949f166a7477be7"
  },
  "kernelspec": {
   "display_name": "Python 3",
   "language": "python",
   "name": "python3"
  },
  "language_info": {
   "codemirror_mode": {
    "name": "ipython",
    "version": 3
   },
   "file_extension": ".py",
   "mimetype": "text/x-python",
   "name": "python",
   "nbconvert_exporter": "python",
   "pygments_lexer": "ipython3",
   "version": "3.6.5"
  }
 },
 "nbformat": 4,
 "nbformat_minor": 2
}
