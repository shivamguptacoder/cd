{
 "cells": [
  {
   "cell_type": "code",
   "execution_count": 1,
   "metadata": {},
   "outputs": [
    {
     "name": "stdout",
     "output_type": "stream",
     "text": [
      "Three Address code is : \n",
      "t  =  ['a', '+', 'b']\n",
      "u  =  ['c', '+', 'd']\n",
      "v  =  ['t', '-', 'u']\n",
      "w  =  ['v', '+', 'u']\n"
     ]
    }
   ],
   "source": [
    "TAC={\n",
    "    't':['a', '+', 'b'],\n",
    "    'u':['c','+','d'],\n",
    "    'v':['t','-','u'],\n",
    "    'w':['v','+','u']\n",
    "}\n",
    "lhs = {}\n",
    "rhs = []\n",
    "i=0\n",
    "stat = []\n",
    "for key,val in TAC.items():\n",
    "    stat.append(key)\n",
    "    lhs[key]=i\n",
    "    i+=1\n",
    "\n",
    "    rhs.append(val)\n",
    "\n",
    "#print(lhs)\n",
    "#print(rhs)\n",
    "print(\"Three Address code is : \")\n",
    "for key, val in TAC.items():\n",
    "    print(key ,\" = \", val)"
   ]
  },
  {
   "cell_type": "code",
   "execution_count": 2,
   "metadata": {},
   "outputs": [],
   "source": [
    "instruction = []\n",
    "cost = 0\n",
    "R0=0\n",
    "R1=0\n"
   ]
  },
  {
   "cell_type": "code",
   "execution_count": 3,
   "metadata": {},
   "outputs": [],
   "source": [
    "def checkOperator(op):\n",
    "    if op=='+':\n",
    "        return 'ADD'\n",
    "    if op=='-':\n",
    "        return 'SUB'\n",
    "    if op=='*':\n",
    "        return 'MUL'\n",
    "    if op=='/':\n",
    "        return 'div'\n"
   ]
  },
  {
   "cell_type": "code",
   "execution_count": 4,
   "metadata": {},
   "outputs": [],
   "source": [
    "def performOperation(operand1, operator, operand2):\n",
    "    operation = []\n",
    "    operation.append(checkOperator(operator))\n",
    "    operation.append(operand1)\n",
    "    operation.append(operand2)\n",
    "    instruction.append(operation)\n",
    "    \n"
   ]
  },
  {
   "cell_type": "code",
   "execution_count": 5,
   "metadata": {},
   "outputs": [],
   "source": [
    "\n",
    "def addCost(type):\n",
    "    if type == 'RR':\n",
    "        return 1\n",
    "        \n",
    "    else:\n",
    "        return 2\n",
    "        \n"
   ]
  },
  {
   "cell_type": "code",
   "execution_count": 6,
   "metadata": {},
   "outputs": [
    {
     "name": "stdout",
     "output_type": "stream",
     "text": [
      "\n",
      "Simple code instruction generated is : \n",
      "['MOV', 'a', 'R0']\n",
      "['ADD', 'b', 'R0']\n",
      "['MOV', 'c', 'R1']\n",
      "['ADD', 'd', 'R1']\n",
      "['SUB', 'R0', 'R1']\n",
      "['ADD', 'R0', 'R1']\n",
      "['Mov', 'R1', 'w']\n",
      "\n",
      "Total Cost of registers is :  12\n"
     ]
    }
   ],
   "source": [
    "\n",
    "i=1\n",
    "rem = {'R0' : 1, 'R1':1}\n",
    "index = -1\n",
    "for lst in rhs:\n",
    "    index+=1\n",
    "    particular = []\n",
    "    if lst[0] not in lhs and lst[2] not in lhs:\n",
    "        for key, val in rem.items():\n",
    "            if val == 1:\n",
    "                use = key\n",
    "                rem[key] = 0\n",
    "                break\n",
    "        operand1 = lst[2]\n",
    "        operand2 = use\n",
    "        operator = lst[1]\n",
    "        particular.append('MOV')\n",
    "        particular.append(lst[0])\n",
    "        particular.append(operand2)\n",
    "        lhs[stat[index]]=use\n",
    "        cost = cost+ addCost('RX')\n",
    "        instruction.append(particular)\n",
    "        performOperation(operand1, operator, operand2)\n",
    "        cost = cost+ addCost('RX')\n",
    "        \n",
    "        \n",
    "        \n",
    "    elif lst[0] in lhs and  lst[2] in lhs:\n",
    "\n",
    "            operand1=lhs[lst[0]]\n",
    "            rem[lhs[lst[0]]]=1\n",
    "            operand2=lhs[lst[2]]\n",
    "            operator=lst[1]\n",
    "            lhs[stat[index]]=operand1\n",
    "            performOperation(operand1, operator, operand2)\n",
    "            cost = cost+ addCost('RR')\n",
    "\n",
    "    \n",
    "\n",
    "#print(rem)\n",
    "\n",
    "operand1 = key\n",
    "operand2=stat[index]\n",
    "operator = 'Mov'\n",
    "particular.append(operator)\n",
    "particular.append(operand1)\n",
    "particular.append(operand2)\n",
    "instruction.append(particular)\n",
    "        #performOperation(operand1, operator, operand2)\n",
    "cost = cost+ addCost('Rx')\n",
    "        \n",
    "\n",
    "print(\"\\nSimple code instruction generated is : \")\n",
    "for i in instruction:\n",
    "    print(i)\n",
    "\n",
    "\n",
    "print(\"\\nTotal Cost of registers is : \",cost)    \n",
    "            \n",
    "\n",
    "\n",
    " \n"
   ]
  }
 ],
 "metadata": {
  "interpreter": {
   "hash": "08b64dc7e9099eac269fb18b5d824c195a782a2ed4ec34aad5d0bbbc3d697e62"
  },
  "kernelspec": {
   "display_name": "Python 3.8.2 64-bit",
   "language": "python",
   "name": "python3"
  },
  "language_info": {
   "codemirror_mode": {
    "name": "ipython",
    "version": 3
   },
   "file_extension": ".py",
   "mimetype": "text/x-python",
   "name": "python",
   "nbconvert_exporter": "python",
   "pygments_lexer": "ipython3",
   "version": "3.8.2"
  },
  "orig_nbformat": 4
 },
 "nbformat": 4,
 "nbformat_minor": 2
}
