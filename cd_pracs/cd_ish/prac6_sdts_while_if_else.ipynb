{
 "cells": [
  {
   "cell_type": "markdown",
   "metadata": {},
   "source": [
    "if (a<5)\n",
    "{\n",
    "c= b+d\n",
    "d= i+j\n",
    "}\n",
    "else\n",
    "{\n",
    "d= a+b\n",
    "k= x+y\n",
    "}\n",
    "\n",
    "stat=['if (a<5){',\n",
    "'c= b+d',\n",
    "'d=i+j',\n",
    "'}else{',\n",
    "'d=a+b',\n",
    "'k=x+y',\n",
    "'}'\n",
    "]"
   ]
  },
  {
   "cell_type": "markdown",
   "metadata": {},
   "source": [
    "****A part****"
   ]
  },
  {
   "cell_type": "code",
   "execution_count": 2,
   "metadata": {
    "executionInfo": {
     "elapsed": 423,
     "status": "ok",
     "timestamp": 1646592138121,
     "user": {
      "displayName": "A-107 Mohit Sahu",
      "photoUrl": "https://lh3.googleusercontent.com/a-/AOh14GiLMabTumYp8PysAh3yflM4RJh7RDg3-MBfG5rG=s64",
      "userId": "14562319678742876681"
     },
     "user_tz": -330
    },
    "id": "3ww2l1bF5DR4"
   },
   "outputs": [],
   "source": [
    "# statement = [   'c=0',\n",
    "#                 'a=1',\n",
    "#                 'b=2',\n",
    "#                 'while(a<b){',\n",
    "#                 'c=a+b',\n",
    "#                 '}'\n",
    "# ]\n",
    "stat=['if (a<5){',\n",
    "'c= b+d',\n",
    "'d=i+j',\n",
    "'}',\n",
    "'else{',\n",
    "'d=a+b',\n",
    "'k=x+y',\n",
    "'};'\n",
    "]"
   ]
  },
  {
   "cell_type": "code",
   "execution_count": 3,
   "metadata": {
    "colab": {
     "base_uri": "https://localhost:8080/"
    },
    "executionInfo": {
     "elapsed": 7,
     "status": "ok",
     "timestamp": 1646033102350,
     "user": {
      "displayName": "A-107 Mohit Sahu",
      "photoUrl": "https://lh3.googleusercontent.com/a-/AOh14GiLMabTumYp8PysAh3yflM4RJh7RDg3-MBfG5rG=s64",
      "userId": "14562319678742876681"
     },
     "user_tz": -330
    },
    "id": "shrsYUwOBmps",
    "outputId": "198becb8-d443-46e7-c2b5-f57995f0adb8"
   },
   "outputs": [
    {
     "name": "stdout",
     "output_type": "stream",
     "text": [
      "['a', 'b+c']\n"
     ]
    }
   ],
   "source": [
    "print('a=b+c'.split('='))"
   ]
  },
  {
   "cell_type": "code",
   "execution_count": 4,
   "metadata": {
    "colab": {
     "base_uri": "https://localhost:8080/"
    },
    "executionInfo": {
     "elapsed": 6,
     "status": "ok",
     "timestamp": 1646592969211,
     "user": {
      "displayName": "A-107 Mohit Sahu",
      "photoUrl": "https://lh3.googleusercontent.com/a-/AOh14GiLMabTumYp8PysAh3yflM4RJh7RDg3-MBfG5rG=s64",
      "userId": "14562319678742876681"
     },
     "user_tz": -330
    },
    "id": "2WIuLFb68N6u",
    "outputId": "b28ebcbf-149d-46c0-f85f-f0e50fa7a7eb"
   },
   "outputs": [
    {
     "name": "stdout",
     "output_type": "stream",
     "text": [
      "100 if (a<5) goto\n",
      "101 goto\n",
      "102 T1 = b+d\n",
      "103 c=T1\n",
      "104 T2 =i+j\n",
      "105 d=T2\n",
      "106 T3 =a+b\n",
      "107 d=T3\n",
      "108 T4 =x+y\n",
      "109 k=T4\n",
      "110 EXIT\n"
     ]
    }
   ],
   "source": [
    "pass1Result = {}\n",
    "\n",
    "def first_pass(st):\n",
    "    count = 100\n",
    "    temp = 1\n",
    "    for i in range(len(st)):\n",
    "        if st[i].startswith('if'):\n",
    "            inside = st[i].split('if')\n",
    "      # print(inside)\n",
    "            s = 'if' + inside[1][:-1] + ' goto'\n",
    "            pass1Result[count] = s\n",
    "            count += 1\n",
    "            pass1Result[count] = 'goto'  \n",
    "            count += 1\n",
    "        elif '+' in st[i]:\n",
    "            assign1 = st[i].split('=')\n",
    "            pass1Result[count] = 'T'+str(temp)+' '+'='+assign1[1]\n",
    "            count += 1\n",
    "            pass1Result[count] = assign1[0] +'='+ 'T' + str(temp)\n",
    "            count = count+1\n",
    "            temp+=1\n",
    "        elif '-' in st[i]:\n",
    "            assign1 = st[i].split('=')\n",
    "            pass1Result[count] = 'T'+str(temp)+' '+'='+assign1[1]\n",
    "            count += 1\n",
    "            pass1Result[count] = assign1[0] +'='+ 'T' + str(temp)\n",
    "            count = count+1\n",
    "            temp+=1\n",
    "        elif '*' in st[i]:\n",
    "            assign1 = st[i].split('=')\n",
    "            pass1Result[count] = 'T'+str(temp)+' '+'='+assign1[1]\n",
    "            count += 1\n",
    "            pass1Result[count] = assign1[0] +'='+ 'T' + str(temp)\n",
    "            count = count+1\n",
    "            temp+=1\n",
    "        elif '/' in st[i]:\n",
    "            assign1 = st[i].split('=')\n",
    "            pass1Result[count] = 'T'+str(temp)+' '+'='+assign1[1]\n",
    "            count += 1\n",
    "            pass1Result[count] = assign1[0] +'='+ 'T' + str(temp)\n",
    "            count = count+1\n",
    "            temp+=1\n",
    "        elif '};' in st[i]:\n",
    "            pass1Result[count]='EXIT'\n",
    "\n",
    "        else:\n",
    "            if '}' not in st[i] and '{' not in st[i] :\n",
    "                pass1Result[count] = st[i]\n",
    "                count += 1\n",
    "    \n",
    "\n",
    "\n",
    "\n",
    "#driver code\n",
    "\n",
    "first_pass(stat)\n",
    "for i in pass1Result:\n",
    "    print(i,pass1Result[i])\n",
    "# print(result)      "
   ]
  },
  {
   "cell_type": "code",
   "execution_count": 5,
   "metadata": {
    "colab": {
     "base_uri": "https://localhost:8080/"
    },
    "executionInfo": {
     "elapsed": 514,
     "status": "ok",
     "timestamp": 1646592951305,
     "user": {
      "displayName": "A-107 Mohit Sahu",
      "photoUrl": "https://lh3.googleusercontent.com/a-/AOh14GiLMabTumYp8PysAh3yflM4RJh7RDg3-MBfG5rG=s64",
      "userId": "14562319678742876681"
     },
     "user_tz": -330
    },
    "id": "adQQttQnFRnG",
    "outputId": "f60397ae-2566-4e2b-efd3-d711bf6301ca"
   },
   "outputs": [
    {
     "name": "stdout",
     "output_type": "stream",
     "text": [
      "110 EXIT\n"
     ]
    }
   ],
   "source": [
    "import copy\n",
    "def second_pass(res):\n",
    "    result = copy.deepcopy(res)\n",
    "    for i in result:\n",
    "        if 'if' in result[i]:\n",
    "            result[i] += \" \" + str(i+2)\n",
    "            result[i+1] += \" \" + str(i+6)\n",
    "        if 'goto' in result[i]:\n",
    "            val = 0\n",
    "        if i == len(result):\n",
    "            for ii in result:\n",
    "                if result[ii].startswith('if'):\n",
    "                    val = ii\n",
    "                    break\n",
    "            result[i] += \" \"+ str(val)\n",
    "    print(i,result[i])\n",
    "    \n",
    "    \n",
    "second_pass(pass1Result)"
   ]
  },
  {
   "cell_type": "markdown",
   "metadata": {},
   "source": [
    "**B part**"
   ]
  },
  {
   "cell_type": "code",
   "execution_count": 6,
   "metadata": {},
   "outputs": [],
   "source": [
    "\n",
    "statement = [   \n",
    "                'while(a<b){',\n",
    "                'if(a<5){',\n",
    "                'c=a+b',\n",
    "                '}',\n",
    "                'else{',\n",
    "                'd=a+b',\n",
    "                '}'\n",
    "                '};'\n",
    "]"
   ]
  },
  {
   "cell_type": "code",
   "execution_count": 7,
   "metadata": {},
   "outputs": [
    {
     "name": "stdout",
     "output_type": "stream",
     "text": [
      "100 wif(a<b) wgoto\n",
      "101 wgoto\n",
      "102 if(a<5) goto\n",
      "103 goto\n",
      "104 T1 =a+b\n",
      "105 c=T1\n",
      "106 T2 =a+b\n",
      "107 d=T2\n",
      "108 EXIT\n"
     ]
    }
   ],
   "source": [
    "result1 = {}\n",
    "\n",
    "def first_pass(st):\n",
    "    count = 100\n",
    "    temp = 1\n",
    "    for i in range(len(st)):\n",
    "        if st[i].startswith('while'):\n",
    "            inside = st[i].split('while')\n",
    "      # print(inside)\n",
    "            s = 'wif' + inside[1][:-1] + ' wgoto'\n",
    "            result1[count] = s\n",
    "            count += 1\n",
    "            result1[count] = 'wgoto'  \n",
    "            count += 1  \n",
    "        if st[i].startswith('if'):\n",
    "            inside = st[i].split('if')\n",
    "      # print(inside)\n",
    "            s = 'if' + inside[1][:-1] + ' goto'\n",
    "            result1[count] = s\n",
    "            count += 1\n",
    "            result1[count] = 'goto'  \n",
    "            count += 1    \n",
    "        elif '+' in st[i]:\n",
    "            assign1 = st[i].split('=')\n",
    "            result1[count] = 'T'+str(temp)+' '+'='+assign1[1]\n",
    "            count += 1\n",
    "            result1[count] = assign1[0] +'='+ 'T' + str(temp)\n",
    "            count = count+1\n",
    "            temp+=1\n",
    "        elif '-' in st[i]:\n",
    "            assign1 = st[i].split('=')\n",
    "            result1[count] = 'T'+str(temp)+' '+'='+assign1[1]\n",
    "            count += 1\n",
    "            result1[count] = assign1[0] +'='+ 'T' + str(temp)\n",
    "            count = count+1\n",
    "            temp+=1\n",
    "        elif '*' in st[i]:\n",
    "            assign1 = st[i].split('=')\n",
    "            result1[count] = 'T'+str(temp)+' '+'='+assign1[1]\n",
    "            count += 1\n",
    "            result1[count] = assign1[0] +'='+ 'T' + str(temp)\n",
    "            count = count+1\n",
    "            temp+=1\n",
    "        elif '/' in st[i]:\n",
    "            assign1 = st[i].split('=')\n",
    "            result1[count] = 'T'+str(temp)+' '+'='+assign1[1]\n",
    "            count += 1\n",
    "            result1[count] = assign1[0] +'='+ 'T' + str(temp)\n",
    "            count = count+1\n",
    "            temp+=1\n",
    "        elif '};' in st[i]:\n",
    "            result1[count]='EXIT'\n",
    "        else:\n",
    "            if '}' not in st[i] and '{' not in st[i] :\n",
    "                result1[count] = st[i]\n",
    "                count += 1\n",
    "    # count += 1\n",
    "  # result1[count] = 'goto'\n",
    "\n",
    "#driver code\n",
    "first_pass(statement)\n",
    "for i in result1:\n",
    "    print(i,result1[i])\n",
    "# print(result)      "
   ]
  }
 ],
 "metadata": {
  "colab": {
   "authorship_tag": "ABX9TyM8ac0Q3LSvnhSu2jPcUjEa",
   "collapsed_sections": [],
   "name": "prac_cd_6.ipynb",
   "provenance": []
  },
  "kernelspec": {
   "display_name": "Python 3",
   "language": "python",
   "name": "python3"
  },
  "language_info": {
   "codemirror_mode": {
    "name": "ipython",
    "version": 3
   },
   "file_extension": ".py",
   "mimetype": "text/x-python",
   "name": "python",
   "nbconvert_exporter": "python",
   "pygments_lexer": "ipython3",
   "version": "3.6.5"
  }
 },
 "nbformat": 4,
 "nbformat_minor": 1
}
