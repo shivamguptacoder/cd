{
 "cells": [
  {
   "cell_type": "code",
   "execution_count": 1,
   "metadata": {},
   "outputs": [
    {
     "name": "stdout",
     "output_type": "stream",
     "text": [
      "Enter the terminals : \n"
     ]
    }
   ],
   "source": [
    "number_of_terminals = int(input(\"Enter the number of terminals : \"))\n",
    "terminals = []\n",
    "print(\"Enter the terminals : \")\n",
    "for i in range(number_of_terminals):\n",
    "    terminals.append(input())"
   ]
  },
  {
   "cell_type": "code",
   "execution_count": 2,
   "metadata": {},
   "outputs": [
    {
     "name": "stdout",
     "output_type": "stream",
     "text": [
      "Enter the non terminals : \n"
     ]
    }
   ],
   "source": [
    "number_of_nonterminals = int(input(\"Enter the number of non terminals : \"))\n",
    "nonterminals = []\n",
    "print(\"Enter the non terminals : \")\n",
    "for j in range(number_of_nonterminals):\n",
    "    nonterminals.append(input())\n"
   ]
  },
  {
   "cell_type": "code",
   "execution_count": 3,
   "metadata": {},
   "outputs": [
    {
     "name": "stdout",
     "output_type": "stream",
     "text": [
      "Enter the productions : \n"
     ]
    },
    {
     "data": {
      "text/plain": [
       "'\\nS->NP VP\\nNP->P\\nNP->PN\\nNP->DN\\nVP->V NP\\nN->Championship\\nN->ball\\nN->toss\\nV->is\\nV->want\\nV->won\\nV->played\\nP->me\\nP->I\\nP->you\\nPN->India\\nPN->Australia\\nPN->Steve\\nPN->John\\nD->the\\nD->a\\nD->an\\n'"
      ]
     },
     "execution_count": 3,
     "metadata": {},
     "output_type": "execute_result"
    }
   ],
   "source": [
    "start_symbol = input(\"Enter the start symbol : \")\n",
    "production_count = int(input(\"Enter the number of productions : \"))\n",
    "productions = []\n",
    "print(\"Enter the productions : \")\n",
    "for k in range(production_count):\n",
    "    productions.append(input())\n",
    "\n",
    "    \n",
    "'''\n",
    "S->NP VP\n",
    "NP->P\n",
    "NP->PN\n",
    "NP->DN\n",
    "VP->V NP\n",
    "N->Championship\n",
    "N->ball\n",
    "N->toss\n",
    "V->is\n",
    "V->want\n",
    "V->won\n",
    "V->played\n",
    "P->me\n",
    "P->I\n",
    "P->you\n",
    "PN->India\n",
    "PN->Australia\n",
    "PN->Steve\n",
    "PN->John\n",
    "D->the\n",
    "D->a\n",
    "D->an\n",
    "'''"
   ]
  },
  {
   "cell_type": "code",
   "execution_count": 4,
   "metadata": {},
   "outputs": [
    {
     "name": "stdout",
     "output_type": "stream",
     "text": [
      "terminals :  ['a', 'b', 'p', 'c']\n",
      "non terminals :  ['S', 'A', 'B', 'C']\n",
      "productions :  ['S->ABC', 'S->C', 'A->a', 'A->bB', 'A->#', 'B->p', 'B->#', 'C->c']\n"
     ]
    }
   ],
   "source": [
    "# input testing --------(remove while cleaning)\n",
    "print(\"terminals : \",terminals)\n",
    "print(\"non terminals : \",nonterminals)\n",
    "print(\"productions : \",productions)"
   ]
  },
  {
   "cell_type": "code",
   "execution_count": 5,
   "metadata": {},
   "outputs": [],
   "source": [
    "production_dict = {}\n",
    "for nt in nonterminals:\n",
    "    production_dict[nt] = []\n",
    "\n",
    "# split the productions into parts to simplify parsing\n",
    "for production in productions:\n",
    "    nonterminal_to_production = production.split(\"->\")\n",
    "    expanded = nonterminal_to_production[1].split(\"/\") # assumption : single char terminals\n",
    "    for ex in expanded:\n",
    "        production_dict[nonterminal_to_production[0]].append(ex)\n"
   ]
  },
  {
   "cell_type": "code",
   "execution_count": 6,
   "metadata": {},
   "outputs": [
    {
     "name": "stdout",
     "output_type": "stream",
     "text": [
      "production_dict {'S': ['ABC', 'C'], 'A': ['a', 'bB', '#'], 'B': ['p', '#'], 'C': ['c']}\n"
     ]
    }
   ],
   "source": [
    "print(\"production_dict\",production_dict)"
   ]
  },
  {
   "cell_type": "code",
   "execution_count": 7,
   "metadata": {},
   "outputs": [],
   "source": [
    "# declare dicts for first and follow as they are set of elements mapped to keys(non terminals)\n",
    "FIRST = {}\n",
    "FOLLOW = {}"
   ]
  },
  {
   "cell_type": "code",
   "execution_count": 8,
   "metadata": {},
   "outputs": [],
   "source": [
    "def First(string):\n",
    "    first_ = set()\n",
    "    \n",
    "    if string in nonterminals:\n",
    "        alternatives = production_dict[string]\n",
    "\n",
    "        for alternative in alternatives:\n",
    "            first_2 = First(alternative)\n",
    "            first_ = first_ | first_2\n",
    "\n",
    "    elif string in terminals:\n",
    "        first_ = {string}\n",
    "\n",
    "    elif string == '' or string == '#':\n",
    "        first_ = {'#'}\n",
    "\n",
    "    else:\n",
    "        first_2 = First(string[0])\n",
    "        if '#' in first_2:\n",
    "            i = 1\n",
    "            while '#' in first_2:\n",
    "                \n",
    "\n",
    "                first_ = first_ | (first_2 - {'#'})\n",
    "                \n",
    "                if string[i:] in terminals:\n",
    "                    first_ = first_ | {string[i:]}\n",
    "                    break\n",
    "                elif string[i:] == '':\n",
    "                    first_ = first_ | {'#'}\n",
    "                    break\n",
    "                first_2 = First(string[i:])\n",
    "                first_ = first_ | first_2 - {'#'}\n",
    "                i += 1\n",
    "        else:\n",
    "            first_ = first_ | first_2\n",
    "\n",
    "    \n",
    "    return first_\n",
    "\n"
   ]
  },
  {
   "cell_type": "code",
   "execution_count": 9,
   "metadata": {},
   "outputs": [],
   "source": [
    "# create set for each Non terminal for First and Follow\n",
    "for nonterminal in nonterminals:\n",
    "    FIRST[nonterminal] = set()\n",
    "    FOLLOW[nonterminal] = set()\n",
    "\n",
    "for nonterminal in nonterminals:\n",
    "    FIRST[nonterminal] = FIRST[nonterminal] | First(nonterminal)"
   ]
  },
  {
   "cell_type": "code",
   "execution_count": 10,
   "metadata": {},
   "outputs": [],
   "source": [
    "def Follow(nT):\n",
    "    \n",
    "    follow_ = set()\n",
    "    \n",
    "    prods = production_dict.items()\n",
    "    if nT == start_symbol:\n",
    "        follow_ = follow_ | {'$'}\n",
    "    for nt, rhs in prods:\n",
    "        \n",
    "        for alt in rhs:\n",
    "            for char in alt:\n",
    "                if char == nT:\n",
    "                    following_str = alt[alt.index(char) + 1:]\n",
    "                    if following_str == '':\n",
    "                        if nt == nT:\n",
    "                            continue\n",
    "                        else:\n",
    "                            follow_ = follow_ | Follow(nt)\n",
    "                    else:\n",
    "                        follow_2 = First(following_str)\n",
    "                        if '#' in follow_2:\n",
    "                            follow_ = follow_ | follow_2-{'#'}\n",
    "                            follow_ = follow_ | Follow(nt)\n",
    "                        else:\n",
    "                            follow_ = follow_ | follow_2\n",
    "    \n",
    "    return follow_\n",
    "\n"
   ]
  },
  {
   "cell_type": "code",
   "execution_count": 11,
   "metadata": {},
   "outputs": [],
   "source": [
    "FOLLOW[start_symbol]=FOLLOW[start_symbol] | {'$'}\n",
    "for non_terminal in nonterminals:\n",
    "    FOLLOW[non_terminal] = FOLLOW[non_terminal] | Follow(non_terminal)"
   ]
  },
  {
   "cell_type": "code",
   "execution_count": 12,
   "metadata": {},
   "outputs": [
    {
     "name": "stdout",
     "output_type": "stream",
     "text": [
      "first( S ) ==>  {'p', 'a', 'b', 'c'}\n",
      "first( A ) ==>  {'a', 'b', '#'}\n",
      "first( B ) ==>  {'p', '#'}\n",
      "first( C ) ==>  {'c'}\n"
     ]
    }
   ],
   "source": [
    "for non_terminal in nonterminals:\n",
    "    print(\"first(\",non_terminal,\") ==> \",FIRST[non_terminal])"
   ]
  },
  {
   "cell_type": "code",
   "execution_count": 13,
   "metadata": {},
   "outputs": [
    {
     "name": "stdout",
     "output_type": "stream",
     "text": [
      "follow( S ) ==>  {'$'}\n",
      "follow( A ) ==>  {'p', 'c'}\n",
      "follow( B ) ==>  {'p', 'c'}\n",
      "follow( C ) ==>  {'$'}\n"
     ]
    }
   ],
   "source": [
    "for non_terminal in nonterminals:\n",
    "    print(\"follow(\",non_terminal,\") ==> \",FOLLOW[non_terminal])"
   ]
  },
  {
   "cell_type": "code",
   "execution_count": 14,
   "metadata": {},
   "outputs": [],
   "source": [
    "import re\n",
    "import string\n",
    "import pandas as pd \n",
    "\n"
   ]
  },
  {
   "cell_type": "code",
   "execution_count": 15,
   "metadata": {},
   "outputs": [
    {
     "name": "stdout",
     "output_type": "stream",
     "text": [
      "\n",
      "Parsing Table\n",
      "\n",
      "('S', 'p') => ABC\n",
      "('S', 'a') => ABC\n",
      "('S', 'b') => ABC\n",
      "('S', 'c') => C\n",
      "('A', 'a') => a\n",
      "('A', 'b') => bB\n",
      "('A', '#') => #\n",
      "('B', 'p') => p\n",
      "('B', '#') => #\n",
      "('C', 'c') => c\n",
      "\n",
      "\n",
      "\n",
      "Parsing Table in matrix form\n",
      "\n",
      "     p    a    b  c  #\n",
      "S  ABC  ABC  ABC  C  -\n",
      "B    p    -    -  -  #\n",
      "A    -    a   bB  -  #\n",
      "C    -    -    -  c  -\n",
      "\n",
      "\n",
      "{('S', 'p'): 'ABC', ('S', 'a'): 'ABC', ('S', 'b'): 'ABC', ('S', 'c'): 'C', ('A', 'a'): 'a', ('A', 'b'): 'bB', ('A', '#'): '#', ('B', 'p'): 'p', ('B', '#'): '#', ('C', 'c'): 'c'}\n"
     ]
    }
   ],
   "source": [
    "def ll1(follow, productions):\n",
    "\n",
    "    print(\"\\nParsing Table\\n\")\n",
    "\n",
    "    table = {}\n",
    "    for key in productions:\n",
    "        for value in productions[key]:\n",
    "            if value!='@':\n",
    "                for element in First(value):\n",
    "                    table[key, element] = value\n",
    "            else:\n",
    "                for element in follow[key]:\n",
    "                    table[key, element] = value\n",
    "\n",
    "    for key,val in table.items():\n",
    "        print(key,\"=>\",val)\n",
    "\n",
    "    new_table = {}\n",
    "    for pair in table:\n",
    "        new_table[pair[1]] = {}\n",
    "\n",
    "    for pair in table:\n",
    "        new_table[pair[1]][pair[0]] = table[pair]\n",
    "\n",
    "\n",
    "    print(\"\\n\")\n",
    "    print(\"\\nParsing Table in matrix form\\n\")\n",
    "    print (pd.DataFrame(new_table).fillna('-'))\n",
    "    print (\"\\n\")\n",
    "\n",
    "    return table\n",
    "\n",
    "ll1Table = ll1(FOLLOW, production_dict)\n",
    "\n",
    "print(ll1Table)\n"
   ]
  },
  {
   "cell_type": "code",
   "execution_count": 16,
   "metadata": {},
   "outputs": [],
   "source": [
    "def parse(user_input,start_symbol,parsingTable):\n",
    "\n",
    "    #flag for checking string is accepted or not.\n",
    "    flag = 0\n",
    "\n",
    "    #append dollar at the end of string\n",
    "    user_input = user_input + \"$\"\n",
    "\n",
    "    #empty stack\n",
    "    stack = []\n",
    "    \n",
    "    #initially stack contain Start symbol follow by dollar symbol\n",
    "    stack.append(\"$\")\n",
    "    stack.append(start_symbol)\n",
    "\n",
    "    input_len = len(user_input)\n",
    "    buffer = 0\n",
    "\n",
    "    #until stack is not empty loop is going on\n",
    "    while len(stack) > 0:\n",
    "\n",
    "        #get top index from length of stack\n",
    "        top = stack[len(stack)-1]\n",
    "\n",
    "        print(\"Top =>\",top)\n",
    "\n",
    "        #current input\n",
    "        current_input = user_input[buffer]\n",
    "\n",
    "        print(\"Current_Input => \",current_input)\n",
    "\n",
    "        if top == current_input:\n",
    "            stack.pop()\n",
    "            buffer = buffer + 1\n",
    "        else:\n",
    "            \n",
    "            # As LL1 Table contain key as combination of (terminal (row_name), non terminal (column_name))\n",
    "            #finding value for key in table\n",
    "            key = top , current_input\n",
    "            print(key)\n",
    "\n",
    "            #top of stack terminal => not accepted\n",
    "            if key not in parsingTable:\n",
    "                flag = 1\n",
    "                break\n",
    "\n",
    "            value = parsingTable[key]\n",
    "            if value !='#':\n",
    "                \n",
    "                # reverse the extracted value from table \n",
    "                value = value[::-1]\n",
    "                value = list(value)\n",
    "                \n",
    "                #poping top of stack\n",
    "                stack.pop()\n",
    "\n",
    "                #push value chars to stack\n",
    "                for element in value:\n",
    "                    stack.append(element)\n",
    "            else:\n",
    "                stack.pop()\t\t\n",
    "\n",
    "    if flag == 0:\n",
    "        print(\"String accepted!\")\n",
    "    else:\n",
    "        print(\"String not accepted!\")\n",
    "\n"
   ]
  },
  {
   "cell_type": "code",
   "execution_count": 17,
   "metadata": {},
   "outputs": [
    {
     "name": "stdout",
     "output_type": "stream",
     "text": [
      "Top => S\n",
      "Current_Input =>  a\n",
      "('S', 'a')\n",
      "Top => A\n",
      "Current_Input =>  a\n",
      "('A', 'a')\n",
      "Top => a\n",
      "Current_Input =>  a\n",
      "Top => B\n",
      "Current_Input =>  p\n",
      "('B', 'p')\n",
      "Top => p\n",
      "Current_Input =>  p\n",
      "Top => C\n",
      "Current_Input =>  c\n",
      "('C', 'c')\n",
      "Top => c\n",
      "Current_Input =>  c\n",
      "Top => $\n",
      "Current_Input =>  $\n",
      "String accepted!\n"
     ]
    }
   ],
   "source": [
    "start = input(\"Enter the Start Symbol : \")\n",
    "parse(\"apc\",start,ll1Table)\n"
   ]
  },
  {
   "cell_type": "code",
   "execution_count": null,
   "metadata": {},
   "outputs": [],
   "source": []
  }
 ],
 "metadata": {
  "kernelspec": {
   "display_name": "Python 3",
   "language": "python",
   "name": "python3"
  },
  "language_info": {
   "codemirror_mode": {
    "name": "ipython",
    "version": 3
   },
   "file_extension": ".py",
   "mimetype": "text/x-python",
   "name": "python",
   "nbconvert_exporter": "python",
   "pygments_lexer": "ipython3",
   "version": "3.6.5"
  }
 },
 "nbformat": 4,
 "nbformat_minor": 5
}
