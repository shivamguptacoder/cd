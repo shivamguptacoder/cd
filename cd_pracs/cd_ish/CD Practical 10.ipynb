{
 "cells": [
  {
   "cell_type": "code",
   "execution_count": 2,
   "metadata": {},
   "outputs": [
    {
     "name": "stdout",
     "output_type": "stream",
     "text": [
      "t=a+b u=c+d v=t-u x=v+u\n",
      "\n",
      "Three Address code: \n",
      "t=a+b\n",
      "u=c+d\n",
      "v=t-u\n",
      "x=v+u\n",
      "\n",
      "Machine Code: \n",
      "MOV a, R0\n",
      "ADD b, R0\n",
      "MOV c, R1\n",
      "ADD d, R1\n",
      "SUB R1, R0\n",
      "ADD R1, R0\n",
      "MOV R0, x\n"
     ]
    }
   ],
   "source": [
    "location = {}\n",
    "register = {\"R0\": 0, \"R1\": 0}\n",
    "\n",
    "operations = {'+': 'ADD', '-': 'SUB', '*': 'MUL', '/': 'DIV'}\n",
    "\n",
    "f = open('input.txt')\n",
    "lines = f.read().split('\\n')\n",
    "print(*lines)\n",
    "machine_code = []\n",
    "\n",
    "for line in lines:\n",
    "    lhs, rhs = line.split('=')\n",
    "    operator = rhs[1]\n",
    "    operand1, operand2 = rhs.split(operator)\n",
    "\n",
    "    isOp1Present = location.get(operand1)\n",
    "\n",
    "    if isOp1Present == None:\n",
    "        for reg in register:\n",
    "            if register[reg] == 0:\n",
    "                break\n",
    "        inst1 = \"MOV \" + operand1 + \", \" + reg\n",
    "        inst2 = operations[operator] + \" \" + operand2 + \", \" + reg\n",
    "        machine_code.append(inst1)\n",
    "    else:\n",
    "        reg = location.get(operand1)\n",
    "        inst2 = operations[operator] + \" \" + location[operand2] + \", \" + reg\n",
    "\n",
    "    register[reg] = 1\n",
    "    location[lhs] = reg\n",
    "\n",
    "    machine_code.append(inst2)\n",
    "\n",
    "machine_code.append(\"MOV \" + reg + \", \" + lhs)\n",
    "\n",
    "print()\n",
    "print('Three Address code: ')\n",
    "for line in lines:\n",
    "    print(line)\n",
    "\n",
    "print()\n",
    "print('Machine Code: ')\n",
    "for line in machine_code:\n",
    "    print(line)"
   ]
  },
  {
   "cell_type": "code",
   "execution_count": null,
   "metadata": {},
   "outputs": [],
   "source": []
  }
 ],
 "metadata": {
  "kernelspec": {
   "display_name": "Python 3",
   "language": "python",
   "name": "python3"
  },
  "language_info": {
   "codemirror_mode": {
    "name": "ipython",
    "version": 3
   },
   "file_extension": ".py",
   "mimetype": "text/x-python",
   "name": "python",
   "nbconvert_exporter": "python",
   "pygments_lexer": "ipython3",
   "version": "3.8.5"
  }
 },
 "nbformat": 4,
 "nbformat_minor": 4
}
