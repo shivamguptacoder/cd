{
 "cells": [
  {
   "cell_type": "code",
   "execution_count": 19,
   "metadata": {},
   "outputs": [],
   "source": [
    "from nltk.tokenize import RegexpTokenizer\n",
    "from googletrans import Translator\n",
    "import nltk \n",
    "from nltk.corpus import stopwords \n",
    "from nltk.tokenize import word_tokenize, sent_tokenize\n",
    "\n",
    "def tokenization(word_data):\n",
    "    tokenizer = RegexpTokenizer(r'\\w+')\n",
    "    tokens = tokenizer.tokenize(word_data)\n",
    "    print(tokens)\n",
    "    print()\n",
    "    print()\n",
    "    return tokens"
   ]
  },
  {
   "cell_type": "code",
   "execution_count": 20,
   "metadata": {},
   "outputs": [],
   "source": [
    "sentence1 = \"Rohan is a wonderful player. He was born in India. He is a fan of the movie Wolverine. He has a dog named Bruno.\"\n",
    "\n",
    "sentence2 = \"It originated from the idea that there are readers who prefer learning new skills from the comforts of their drawing rooms\"\n",
    "\n",
    "sentence3 = \"my name is Ishika\"\n",
    "\n",
    "sentence4 = \"Aayush is a son of Himendra\"\n",
    "\n",
    "sentence5 = \"what is your name\""
   ]
  },
  {
   "cell_type": "code",
   "execution_count": 21,
   "metadata": {},
   "outputs": [
    {
     "name": "stdout",
     "output_type": "stream",
     "text": [
      "['Rohan', 'is', 'a', 'wonderful', 'player', 'He', 'was', 'born', 'in', 'India', 'He', 'is', 'a', 'fan', 'of', 'the', 'movie', 'Wolverine', 'He', 'has', 'a', 'dog', 'named', 'Bruno']\n",
      "\n",
      "\n",
      "['It', 'originated', 'from', 'the', 'idea', 'that', 'there', 'are', 'readers', 'who', 'prefer', 'learning', 'new', 'skills', 'from', 'the', 'comforts', 'of', 'their', 'drawing', 'rooms']\n",
      "\n",
      "\n",
      "['my', 'name', 'is', 'Ishika']\n",
      "\n",
      "\n",
      "['Aayush', 'is', 'a', 'son', 'of', 'Himendra']\n",
      "\n",
      "\n",
      "['what', 'is', 'your', 'name']\n",
      "\n",
      "\n"
     ]
    }
   ],
   "source": [
    "tokens1 = tokenization(sentence1)\n",
    "\n",
    "tokens2 = tokenization(sentence2)\n",
    "\n",
    "tokens3 = tokenization(sentence3)\n",
    "\n",
    "tokens4 = tokenization(sentence4)\n",
    "\n",
    "tokens5 = tokenization(sentence5)\n",
    "def convertLower(token):\n",
    "    lst = []\n",
    "    for i in token:\n",
    "        lst.append(i.lower())\n",
    "    return lst"
   ]
  },
  {
   "cell_type": "code",
   "execution_count": 22,
   "metadata": {},
   "outputs": [],
   "source": [
    "\n",
    "def inimitableWords(words):\n",
    "    inimitable=[]\n",
    "    #print('PROPER NOUNS EXTRACTED :')\n",
    "    words = [word for word in words if word not in set(stopwords.words('english'))]\n",
    "    tagged = nltk.pos_tag(words)\n",
    "    for (word, tag) in tagged:\n",
    "        if tag == 'NNP': # If the word is a proper noun\n",
    "            inimitable.append(word)\n",
    "            print(word)\n",
    "\n",
    "    return inimitable\n",
    "\n",
    "\n"
   ]
  },
  {
   "cell_type": "code",
   "execution_count": 23,
   "metadata": {},
   "outputs": [],
   "source": [
    "English_To_Hindi={\n",
    "'son' : 'लड़का',\n",
    " 'free' : 'मुफ़्त',\n",
    " 'quick' : 'जल्दी',\n",
    " 'town' : 'शहर',\n",
    " 'help': 'सहायता',\n",
    " 'Clean' : 'साफ़',\n",
    " 'touch' : 'छूना',\n",
    "'jump' :\t'उछलो',\n",
    "'jump' :    'कूदो',\n",
    "'jump' :    'छलांग',\n",
    "'hello':    'नमस्ते',\n",
    "'cheers':\t'वाह-वाह',\n",
    "'cheers':\t'चियर्स',\n",
    "'is'   :' है',\n",
    "'I ':'मैं',\n",
    "'my' :'मेरा',\n",
    "'name': 'नाम',\n",
    "'of' : 'का',\n",
    "'a':'ऐक',\n",
    "'your':'आपका',\n",
    "'what':'क्या'}"
   ]
  },
  {
   "cell_type": "code",
   "execution_count": 24,
   "metadata": {},
   "outputs": [],
   "source": [
    "def convert( stops):\n",
    "    translator = Translator()\n",
    "    final_list = []\n",
    "    t_word = \"\"\n",
    "    special_chars = \"/.,><?][}{)(|;:-+=\"\n",
    "    for word in stops:\n",
    "        \n",
    "        #phrase_list = stops[i][:].split(\" \")\n",
    "        \n",
    "        if type(word) == int:\n",
    "            t_word += word\n",
    "            t_word+=\" \"\n",
    "            final_list.append(word) \n",
    "        elif word in special_chars:\n",
    "            t_word += word\n",
    "            t_word+=\" \"\n",
    "            final_list.append(word)\n",
    "        elif word in inimitable:\n",
    "            t_word += word\n",
    "            t_word+=\" \"\n",
    "            final_list.append(word)\n",
    "\n",
    "        elif word in English_To_Hindi:\n",
    "            t_word += English_To_Hindi[word]\n",
    "            t_word+=\" \"\n",
    "            final_list.append(English_To_Hindi[word])\n",
    "             \n",
    "        else:\n",
    "            w = ((translator.translate(word,dest=\"hi\")).text)\n",
    "            t_word += w\n",
    "            t_word+=\" \"\n",
    "            final_list.append(w)\n",
    "            #t_word += self.get_lang(word)\n",
    "            \n",
    "    print(t_word)\n",
    "        #final_list.append(t_word[:-1])\n",
    "    #return final_list\n",
    "\n",
    "\n",
    "\n"
   ]
  },
  {
   "cell_type": "code",
   "execution_count": 25,
   "metadata": {},
   "outputs": [
    {
     "name": "stdout",
     "output_type": "stream",
     "text": [
      "Inimitable words are : \n",
      "Rohan\n",
      "India\n",
      "Wolverine\n",
      "Bruno\n",
      "\n",
      "English to Hindi conversion is : \n",
      "\n",
      "English sentence is : \n",
      "Rohan is a wonderful player. He was born in India. He is a fan of the movie Wolverine. He has a dog named Bruno. \n",
      "\n",
      "Hindi sentence is : \n",
      "Rohan  है ऐक प्रशंसनीय खिलाड़ी हे था जन्म में India हे  है ऐक पंखा का  चलचित्र Wolverine हे है ऐक कुत्ता नामित Bruno \n"
     ]
    }
   ],
   "source": [
    "#driver code\n",
    "inimitable = []\n",
    "print(\"Inimitable words are : \")\n",
    "inimitable = inimitableWords(tokens1)\n",
    "print(\"\\nEnglish to Hindi conversion is : \\n\")\n",
    "print(\"English sentence is : \")\n",
    "print(sentence1,\"\\n\")\n",
    "print(\"Hindi sentence is : \")\n",
    "convert(tokens1)"
   ]
  },
  {
   "cell_type": "code",
   "execution_count": 26,
   "metadata": {},
   "outputs": [
    {
     "name": "stdout",
     "output_type": "stream",
     "text": [
      "Inimitable words are : \n",
      "\n",
      "English to Hindi conversion is : \n",
      "\n",
      "English sentence is : \n",
      "It originated from the idea that there are readers who prefer learning new skills from the comforts of their drawing rooms \n",
      "\n",
      "Hindi sentence is : \n",
      "यह उत्पन्न हुई से  विचार वह वहां हैं पाठकों who पसंद करना सीख रहा हूँ नया कौशल से  आराम का उनका चित्रकारी कमरा \n"
     ]
    }
   ],
   "source": [
    "#driver code\n",
    "inimitable = []\n",
    "print(\"Inimitable words are : \")\n",
    "inimitable = inimitableWords(tokens2)\n",
    "print(\"\\nEnglish to Hindi conversion is : \\n\")\n",
    "print(\"English sentence is : \")\n",
    "print(sentence2,\"\\n\")\n",
    "print(\"Hindi sentence is : \")\n",
    "convert(tokens2)"
   ]
  },
  {
   "cell_type": "code",
   "execution_count": 27,
   "metadata": {},
   "outputs": [
    {
     "name": "stdout",
     "output_type": "stream",
     "text": [
      "Inimitable words are : \n",
      "Ishika\n",
      "\n",
      "English to Hindi conversion is : \n",
      "\n",
      "English sentence is : \n",
      "my name is Ishika \n",
      "\n",
      "Hindi sentence is : \n",
      "मेरा नाम  है Ishika \n"
     ]
    }
   ],
   "source": [
    "#driver code\n",
    "inimitable = []\n",
    "print(\"Inimitable words are : \")\n",
    "inimitable = inimitableWords(tokens3)\n",
    "print(\"\\nEnglish to Hindi conversion is : \\n\")\n",
    "print(\"English sentence is : \")\n",
    "print(sentence3,\"\\n\")\n",
    "print(\"Hindi sentence is : \")\n",
    "convert(tokens3)"
   ]
  },
  {
   "cell_type": "code",
   "execution_count": 28,
   "metadata": {},
   "outputs": [
    {
     "name": "stdout",
     "output_type": "stream",
     "text": [
      "Inimitable words are : \n",
      "Aayush\n",
      "Himendra\n",
      "\n",
      "English to Hindi conversion is : \n",
      "\n",
      "English sentence is : \n",
      "Aayush is a son of Himendra \n",
      "\n",
      "Hindi sentence is : \n",
      "Aayush  है ऐक लड़का का Himendra \n"
     ]
    }
   ],
   "source": [
    "#driver code\n",
    "inimitable = []\n",
    "print(\"Inimitable words are : \")\n",
    "inimitable = inimitableWords(tokens4)\n",
    "print(\"\\nEnglish to Hindi conversion is : \\n\")\n",
    "print(\"English sentence is : \")\n",
    "print(sentence4,\"\\n\")\n",
    "print(\"Hindi sentence is : \")\n",
    "convert(tokens4)"
   ]
  }
 ],
 "metadata": {
  "interpreter": {
   "hash": "08b64dc7e9099eac269fb18b5d824c195a782a2ed4ec34aad5d0bbbc3d697e62"
  },
  "kernelspec": {
   "display_name": "Python 3",
   "language": "python",
   "name": "python3"
  },
  "language_info": {
   "codemirror_mode": {
    "name": "ipython",
    "version": 3
   },
   "file_extension": ".py",
   "mimetype": "text/x-python",
   "name": "python",
   "nbconvert_exporter": "python",
   "pygments_lexer": "ipython3",
   "version": "3.6.5"
  }
 },
 "nbformat": 4,
 "nbformat_minor": 2
}
